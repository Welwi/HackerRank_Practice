{
  "nbformat": 4,
  "nbformat_minor": 0,
  "metadata": {
    "colab": {
      "name": "Zipped.ipynb",
      "provenance": [],
      "authorship_tag": "ABX9TyOTnD6xzQRhNztmqSfQqbR2",
      "include_colab_link": true
    },
    "kernelspec": {
      "name": "python3",
      "display_name": "Python 3"
    }
  },
  "cells": [
    {
      "cell_type": "markdown",
      "metadata": {
        "id": "view-in-github",
        "colab_type": "text"
      },
      "source": [
        "<a href=\"https://colab.research.google.com/github/Welwi/HackerRank_Practice/blob/master/Zipped.ipynb\" target=\"_parent\"><img src=\"https://colab.research.google.com/assets/colab-badge.svg\" alt=\"Open In Colab\"/></a>"
      ]
    },
    {
      "cell_type": "markdown",
      "metadata": {
        "id": "XsIluJANjn5X",
        "colab_type": "text"
      },
      "source": [
        "Input Format\n",
        "\n",
        "The first line contains N and X separated by a space.\n",
        "The next X lines contains the space separated marks obtained by students in a particular subject.\n",
        "\n",
        "Constraints\n",
        "0 < N <= 100\n",
        "0 < X <= 100\n",
        "\n",
        "\n",
        "Output Format\n",
        "\n",
        "Print the averages of all students on separate lines.\n",
        "\n",
        "The averages must be correct up to 1 decimal place."
      ]
    },
    {
      "cell_type": "code",
      "metadata": {
        "id": "jWsCMb9ljWzD",
        "colab_type": "code",
        "colab": {}
      },
      "source": [
        "students, subjects = map(int, input().split())\n",
        "\n",
        "grades = list(map(float, input().split()) for grade in range(subjects))\n",
        "\n",
        "for average in zip(*grades):\n",
        "    print(sum(average)/subjects)"
      ],
      "execution_count": null,
      "outputs": []
    },
    {
      "cell_type": "code",
      "metadata": {
        "id": "H_zCmONCkDjr",
        "colab_type": "code",
        "colab": {}
      },
      "source": [
        ""
      ],
      "execution_count": null,
      "outputs": []
    }
  ]
}