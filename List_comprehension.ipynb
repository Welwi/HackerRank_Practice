{
  "nbformat": 4,
  "nbformat_minor": 0,
  "metadata": {
    "colab": {
      "name": "List_comprehension.ipynb",
      "provenance": [],
      "authorship_tag": "ABX9TyOljM5upzYaMuGTyb0Wl9Nl",
      "include_colab_link": true
    },
    "kernelspec": {
      "name": "python3",
      "display_name": "Python 3"
    }
  },
  "cells": [
    {
      "cell_type": "markdown",
      "metadata": {
        "id": "view-in-github",
        "colab_type": "text"
      },
      "source": [
        "<a href=\"https://colab.research.google.com/github/Welwi/HackerRank_Practice/blob/master/List_comprehension.ipynb\" target=\"_parent\"><img src=\"https://colab.research.google.com/assets/colab-badge.svg\" alt=\"Open In Colab\"/></a>"
      ]
    },
    {
      "cell_type": "markdown",
      "metadata": {
        "id": "FoFCqbQQM_12",
        "colab_type": "text"
      },
      "source": [
        "Let's learn about list comprehensions! You are given three integers  and  representing the dimensions of a cuboid along with an integer . Print a list of all possible coordinates given by(i,j,k)  on a 3D grid where the sum of i+j+k is not equal to n. Here, 0 <= i <= x; 0 <= j <=y; 0 <=k <= z . Please use list comprehensions rather than multiple loops, as a learning exercise."
      ]
    },
    {
      "cell_type": "code",
      "metadata": {
        "id": "3TrOM1esM2Rq",
        "colab_type": "code",
        "colab": {}
      },
      "source": [
        "if __name__ == '__main__':\n",
        "    x = int(input())\n",
        "    y = int(input())\n",
        "    z = int(input())\n",
        "    n = int(input())\n",
        "\n",
        "    \n",
        "    print([[i,j,k] for i in range(x+1) for j in range(y+1) for k in range(z+1) if sum([i,j,k]) != n])"
      ],
      "execution_count": null,
      "outputs": []
    }
  ]
}