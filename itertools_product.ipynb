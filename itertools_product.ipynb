{
  "nbformat": 4,
  "nbformat_minor": 0,
  "metadata": {
    "colab": {
      "name": "itertools_product.ipynb",
      "provenance": [],
      "authorship_tag": "ABX9TyOLpOisLuw2aCzWn7Qj6S0R",
      "include_colab_link": true
    },
    "kernelspec": {
      "name": "python3",
      "display_name": "Python 3"
    }
  },
  "cells": [
    {
      "cell_type": "markdown",
      "metadata": {
        "id": "view-in-github",
        "colab_type": "text"
      },
      "source": [
        "<a href=\"https://colab.research.google.com/github/Welwi/HackerRank_Practice/blob/master/itertools_product.ipynb\" target=\"_parent\"><img src=\"https://colab.research.google.com/assets/colab-badge.svg\" alt=\"Open In Colab\"/></a>"
      ]
    },
    {
      "cell_type": "markdown",
      "metadata": {
        "id": "xacBrEUoQshB",
        "colab_type": "text"
      },
      "source": [
        "itertools.product()\n",
        "\n",
        "This tool computes the cartesian product of input iterables.\n",
        "It is equivalent to nested for-loops.\n",
        "For example, product(A, B) returns the same as ((x,y) for x in A for y in B)."
      ]
    },
    {
      "cell_type": "code",
      "metadata": {
        "id": "eVthaKSWQogM",
        "colab_type": "code",
        "colab": {}
      },
      "source": [
        "from itertools import product\n",
        "\n",
        "A = list(map(int, input().split()))\n",
        "B = list(map(int, input().split()))\n",
        "\n",
        "print(*list(product(A,B)), sep=' ')"
      ],
      "execution_count": null,
      "outputs": []
    }
  ]
}