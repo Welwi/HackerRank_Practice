{
  "nbformat": 4,
  "nbformat_minor": 0,
  "metadata": {
    "colab": {
      "name": "Compress_the_string.ipynb",
      "provenance": [],
      "authorship_tag": "ABX9TyPuQX2uyR6gEHF6QkyxoRk9",
      "include_colab_link": true
    },
    "kernelspec": {
      "name": "python3",
      "display_name": "Python 3"
    }
  },
  "cells": [
    {
      "cell_type": "markdown",
      "metadata": {
        "id": "view-in-github",
        "colab_type": "text"
      },
      "source": [
        "<a href=\"https://colab.research.google.com/github/Welwi/HackerRank_Practice/blob/master/Compress_the_string.ipynb\" target=\"_parent\"><img src=\"https://colab.research.google.com/assets/colab-badge.svg\" alt=\"Open In Colab\"/></a>"
      ]
    },
    {
      "cell_type": "markdown",
      "metadata": {
        "id": "m-pqV3kF_FZ6",
        "colab_type": "text"
      },
      "source": [
        "In this task, we would like for you to appreciate the usefulness of the groupby() function of itertools . To read more about this function, Check this out .\n",
        "\n",
        "You are given a string S. Suppose a character 'c' occurs consecutively X times in the string. Replace these consecutive occurrences of the character 'c' with (X,c) in the string.\n",
        "\n",
        "For a better understanding of the problem, check the explanation."
      ]
    },
    {
      "cell_type": "code",
      "metadata": {
        "id": "eBfwWcDF_Chr",
        "colab_type": "code",
        "colab": {}
      },
      "source": [
        "from itertools import groupby\n",
        "\n",
        "s = input()\n",
        "\n",
        "for key, group in groupby(s):\n",
        "    len_group = len(list(group))\n",
        "    print((len_group, int(key)), end=' ')\n"
      ],
      "execution_count": null,
      "outputs": []
    },
    {
      "cell_type": "code",
      "metadata": {
        "id": "-4n-TXeI_cwI",
        "colab_type": "code",
        "colab": {}
      },
      "source": [
        ""
      ],
      "execution_count": null,
      "outputs": []
    }
  ]
}