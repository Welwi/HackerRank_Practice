{
 "cells": [
  {
   "cell_type": "code",
   "execution_count": 36,
   "metadata": {},
   "outputs": [],
   "source": [
    "import pandas as pd\n",
    "import numpy as np\n",
    "\n",
    "import seaborn as sns\n",
    "import matplotlib.pyplot as plt\n",
    "\n",
    "%matplotlib inline"
   ]
  },
  {
   "cell_type": "code",
   "execution_count": 31,
   "metadata": {},
   "outputs": [],
   "source": [
    "df = pd.read_csv('laptop_batery.csv', names=['time to charge', 'battery time'])"
   ]
  },
  {
   "cell_type": "code",
   "execution_count": 32,
   "metadata": {},
   "outputs": [
    {
     "data": {
      "text/html": [
       "<div>\n",
       "<style scoped>\n",
       "    .dataframe tbody tr th:only-of-type {\n",
       "        vertical-align: middle;\n",
       "    }\n",
       "\n",
       "    .dataframe tbody tr th {\n",
       "        vertical-align: top;\n",
       "    }\n",
       "\n",
       "    .dataframe thead th {\n",
       "        text-align: right;\n",
       "    }\n",
       "</style>\n",
       "<table border=\"1\" class=\"dataframe\">\n",
       "  <thead>\n",
       "    <tr style=\"text-align: right;\">\n",
       "      <th></th>\n",
       "      <th>time to charge</th>\n",
       "      <th>battery time</th>\n",
       "    </tr>\n",
       "  </thead>\n",
       "  <tbody>\n",
       "    <tr>\n",
       "      <td>0</td>\n",
       "      <td>2.81</td>\n",
       "      <td>5.62</td>\n",
       "    </tr>\n",
       "    <tr>\n",
       "      <td>1</td>\n",
       "      <td>7.14</td>\n",
       "      <td>8.00</td>\n",
       "    </tr>\n",
       "    <tr>\n",
       "      <td>2</td>\n",
       "      <td>2.72</td>\n",
       "      <td>5.44</td>\n",
       "    </tr>\n",
       "    <tr>\n",
       "      <td>3</td>\n",
       "      <td>3.87</td>\n",
       "      <td>7.74</td>\n",
       "    </tr>\n",
       "    <tr>\n",
       "      <td>4</td>\n",
       "      <td>1.90</td>\n",
       "      <td>3.80</td>\n",
       "    </tr>\n",
       "    <tr>\n",
       "      <td>...</td>\n",
       "      <td>...</td>\n",
       "      <td>...</td>\n",
       "    </tr>\n",
       "    <tr>\n",
       "      <td>101</td>\n",
       "      <td>NaN</td>\n",
       "      <td>NaN</td>\n",
       "    </tr>\n",
       "    <tr>\n",
       "      <td>102</td>\n",
       "      <td>NaN</td>\n",
       "      <td>NaN</td>\n",
       "    </tr>\n",
       "    <tr>\n",
       "      <td>103</td>\n",
       "      <td>NaN</td>\n",
       "      <td>NaN</td>\n",
       "    </tr>\n",
       "    <tr>\n",
       "      <td>104</td>\n",
       "      <td>NaN</td>\n",
       "      <td>NaN</td>\n",
       "    </tr>\n",
       "    <tr>\n",
       "      <td>105</td>\n",
       "      <td>NaN</td>\n",
       "      <td>NaN</td>\n",
       "    </tr>\n",
       "  </tbody>\n",
       "</table>\n",
       "<p>106 rows × 2 columns</p>\n",
       "</div>"
      ],
      "text/plain": [
       "     time to charge  battery time\n",
       "0              2.81          5.62\n",
       "1              7.14          8.00\n",
       "2              2.72          5.44\n",
       "3              3.87          7.74\n",
       "4              1.90          3.80\n",
       "..              ...           ...\n",
       "101             NaN           NaN\n",
       "102             NaN           NaN\n",
       "103             NaN           NaN\n",
       "104             NaN           NaN\n",
       "105             NaN           NaN\n",
       "\n",
       "[106 rows x 2 columns]"
      ]
     },
     "execution_count": 32,
     "metadata": {},
     "output_type": "execute_result"
    }
   ],
   "source": [
    "df"
   ]
  },
  {
   "cell_type": "code",
   "execution_count": 33,
   "metadata": {},
   "outputs": [
    {
     "data": {
      "text/html": [
       "<div>\n",
       "<style scoped>\n",
       "    .dataframe tbody tr th:only-of-type {\n",
       "        vertical-align: middle;\n",
       "    }\n",
       "\n",
       "    .dataframe tbody tr th {\n",
       "        vertical-align: top;\n",
       "    }\n",
       "\n",
       "    .dataframe thead th {\n",
       "        text-align: right;\n",
       "    }\n",
       "</style>\n",
       "<table border=\"1\" class=\"dataframe\">\n",
       "  <thead>\n",
       "    <tr style=\"text-align: right;\">\n",
       "      <th></th>\n",
       "      <th>time to charge</th>\n",
       "      <th>battery time</th>\n",
       "    </tr>\n",
       "  </thead>\n",
       "  <tbody>\n",
       "    <tr>\n",
       "      <td>0</td>\n",
       "      <td>2.81</td>\n",
       "      <td>5.62</td>\n",
       "    </tr>\n",
       "    <tr>\n",
       "      <td>1</td>\n",
       "      <td>7.14</td>\n",
       "      <td>8.00</td>\n",
       "    </tr>\n",
       "    <tr>\n",
       "      <td>2</td>\n",
       "      <td>2.72</td>\n",
       "      <td>5.44</td>\n",
       "    </tr>\n",
       "    <tr>\n",
       "      <td>3</td>\n",
       "      <td>3.87</td>\n",
       "      <td>7.74</td>\n",
       "    </tr>\n",
       "    <tr>\n",
       "      <td>4</td>\n",
       "      <td>1.90</td>\n",
       "      <td>3.80</td>\n",
       "    </tr>\n",
       "    <tr>\n",
       "      <td>...</td>\n",
       "      <td>...</td>\n",
       "      <td>...</td>\n",
       "    </tr>\n",
       "    <tr>\n",
       "      <td>95</td>\n",
       "      <td>4.38</td>\n",
       "      <td>8.00</td>\n",
       "    </tr>\n",
       "    <tr>\n",
       "      <td>96</td>\n",
       "      <td>8.06</td>\n",
       "      <td>8.00</td>\n",
       "    </tr>\n",
       "    <tr>\n",
       "      <td>97</td>\n",
       "      <td>8.05</td>\n",
       "      <td>8.00</td>\n",
       "    </tr>\n",
       "    <tr>\n",
       "      <td>98</td>\n",
       "      <td>1.10</td>\n",
       "      <td>2.20</td>\n",
       "    </tr>\n",
       "    <tr>\n",
       "      <td>99</td>\n",
       "      <td>6.65</td>\n",
       "      <td>8.00</td>\n",
       "    </tr>\n",
       "  </tbody>\n",
       "</table>\n",
       "<p>100 rows × 2 columns</p>\n",
       "</div>"
      ],
      "text/plain": [
       "    time to charge  battery time\n",
       "0             2.81          5.62\n",
       "1             7.14          8.00\n",
       "2             2.72          5.44\n",
       "3             3.87          7.74\n",
       "4             1.90          3.80\n",
       "..             ...           ...\n",
       "95            4.38          8.00\n",
       "96            8.06          8.00\n",
       "97            8.05          8.00\n",
       "98            1.10          2.20\n",
       "99            6.65          8.00\n",
       "\n",
       "[100 rows x 2 columns]"
      ]
     },
     "execution_count": 33,
     "metadata": {},
     "output_type": "execute_result"
    }
   ],
   "source": [
    "df.drop([100, 101, 102, 103, 104, 105])"
   ]
  },
  {
   "cell_type": "code",
   "execution_count": 41,
   "metadata": {},
   "outputs": [
    {
     "data": {
      "text/plain": [
       "Text(0, 0.5, 'battery time')"
      ]
     },
     "execution_count": 41,
     "metadata": {},
     "output_type": "execute_result"
    },
    {
     "data": {
      "image/png": "[encoded data removed]",
      "text/plain": [
       "<Figure size 432x288 with 1 Axes>"
      ]
     },
     "metadata": {
      "needs_background": "light"
     },
     "output_type": "display_data"
    }
   ],
   "source": [
    "plt.scatter(x=df['time to charge'], y=df['battery time'])\n",
    "plt.xlabel('time to charge')\n",
    "plt.ylabel('battery time')"
   ]
  },
  {
   "cell_type": "code",
   "execution_count": null,
   "metadata": {},
   "outputs": [],
   "source": [
    "# This shows that the battery lasts between 0 and 8 hours\n",
    "\n",
    "# after 4 hours it the battery life does not change. It is 8 hours\n",
    "\n",
    "# between 0 and 8 hours there is a linear relationship"
   ]
  },
  {
   "cell_type": "code",
   "execution_count": 40,
   "metadata": {},
   "outputs": [
    {
     "data": {
      "text/plain": [
       "<matplotlib.axes._subplots.AxesSubplot at 0x7fe28c2fc4e0>"
      ]
     },
     "execution_count": 40,
     "metadata": {},
     "output_type": "execute_result"
    },
    {
     "data": {
      "image/png": "[encoded data removed]",
      "text/plain": [
       "<Figure size 432x288 with 1 Axes>"
      ]
     },
     "metadata": {
      "needs_background": "light"
     },
     "output_type": "display_data"
    }
   ],
   "source": [
    "sns.boxplot(df['time to charge'])"
   ]
  },
  {
   "cell_type": "code",
   "execution_count": null,
   "metadata": {},
   "outputs": [],
   "source": [
    "if inputs <= 0:\n",
    "    return 0\n",
    "elif 0 < inputs < 4:\n",
    "    reutrn inputs*2\n",
    "else:\n",
    "    return 8"
   ]
  },
  {
   "cell_type": "code",
   "execution_count": 42,
   "metadata": {},
   "outputs": [],
   "source": [
    "# using linear regression just for practice\n",
    "\n",
    "from sklearn.linear_model import LinearRegression"
   ]
  },
  {
   "cell_type": "code",
   "execution_count": 43,
   "metadata": {},
   "outputs": [],
   "source": [
    "df_sample = df"
   ]
  },
  {
   "cell_type": "code",
   "execution_count": 44,
   "metadata": {},
   "outputs": [],
   "source": [
    "df_sample = df_sample[df_sample['time to charge'] <= 4]"
   ]
  },
  {
   "cell_type": "code",
   "execution_count": 48,
   "metadata": {},
   "outputs": [],
   "source": [
    "X_train = df_sample.iloc[:,:-1].values\n",
    "y_train = df_sample.iloc[:,-1].values"
   ]
  },
  {
   "cell_type": "code",
   "execution_count": 50,
   "metadata": {},
   "outputs": [],
   "source": [
    "model = LinearRegression()"
   ]
  },
  {
   "cell_type": "code",
   "execution_count": 51,
   "metadata": {},
   "outputs": [
    {
     "data": {
      "text/plain": [
       "LinearRegression(copy_X=True, fit_intercept=True, n_jobs=None, normalize=False)"
      ]
     },
     "execution_count": 51,
     "metadata": {},
     "output_type": "execute_result"
    }
   ],
   "source": [
    "model.fit(X_train, y_train)"
   ]
  },
  {
   "cell_type": "code",
   "execution_count": 57,
   "metadata": {},
   "outputs": [
    {
     "data": {
      "text/plain": [
       "array([3.])"
      ]
     },
     "execution_count": 57,
     "metadata": {},
     "output_type": "execute_result"
    }
   ],
   "source": [
    "y_pred = model.predict(np.array([1.5]).reshape(-1,1))\n",
    "y_pred"
   ]
  },
  {
   "cell_type": "code",
   "execution_count": null,
   "metadata": {},
   "outputs": [],
   "source": [
    "from sklearn.linear_model import LinearRegression\n",
    "\n",
    "df_sample = df_sample[df_sample['time to charge'] <= 4]\n",
    "\n",
    "X_train = df_sample.iloc[:,:-1].values\n",
    "y_train = df_sample.iloc[:,-1].values\n",
    "\n",
    "model = LinearRegression()\n",
    "model.fit(X_train, y_train)\n",
    "\n",
    "y_pred = model.predict(np.array([1.5]).reshape(-1,1))\n",
    "y_pred"
   ]
  },
  {
   "cell_type": "code",
   "execution_count": 58,
   "metadata": {},
   "outputs": [],
   "source": [
    "import requests"
   ]
  },
  {
   "cell_type": "code",
   "execution_count": 59,
   "metadata": {},
   "outputs": [],
   "source": [
    "res = requests.get('https://s3.amazonaws.com/hr-testcases/399/assets/trainingdata.txt')"
   ]
  },
  {
   "cell_type": "code",
   "execution_count": 62,
   "metadata": {},
   "outputs": [],
   "source": [
    "req = res.text"
   ]
  },
  {
   "cell_type": "code",
   "execution_count": 74,
   "metadata": {},
   "outputs": [],
   "source": [
    "req = req.split('\\n')"
   ]
  },
  {
   "cell_type": "code",
   "execution_count": 82,
   "metadata": {},
   "outputs": [
    {
     "name": "stdout",
     "output_type": "stream",
     "text": [
      "2.81\n",
      "5.62\n",
      "7.14\n",
      "8.00\n",
      "2.72\n",
      "5.44\n",
      "3.87\n",
      "7.74\n",
      "1.90\n",
      "3.80\n",
      "7.82\n",
      "8.00\n",
      "7.02\n",
      "8.00\n",
      "5.50\n",
      "8.00\n",
      "9.15\n",
      "8.00\n",
      "4.87\n",
      "8.00\n",
      "8.08\n",
      "8.00\n",
      "5.58\n",
      "8.00\n",
      "9.13\n",
      "8.00\n",
      "0.14\n",
      "0.28\n",
      "2.00\n",
      "4.00\n",
      "5.47\n",
      "8.00\n",
      "0.80\n",
      "1.60\n",
      "4.37\n",
      "8.00\n",
      "5.31\n",
      "8.00\n",
      "0.00\n",
      "0.00\n",
      "1.78\n",
      "3.56\n",
      "3.45\n",
      "6.90\n",
      "6.13\n",
      "8.00\n",
      "3.53\n",
      "7.06\n",
      "4.61\n",
      "8.00\n",
      "1.76\n",
      "3.52\n",
      "6.39\n",
      "8.00\n",
      "0.02\n",
      "0.04\n",
      "9.69\n",
      "8.00\n",
      "5.33\n",
      "8.00\n",
      "6.37\n",
      "8.00\n",
      "5.55\n",
      "8.00\n",
      "7.80\n",
      "8.00\n",
      "2.06\n",
      "4.12\n",
      "7.79\n",
      "8.00\n",
      "2.24\n",
      "4.48\n",
      "9.71\n",
      "8.00\n",
      "1.11\n",
      "2.22\n",
      "8.38\n",
      "8.00\n",
      "2.33\n",
      "4.66\n",
      "1.83\n",
      "3.66\n",
      "5.94\n",
      "8.00\n",
      "9.20\n",
      "8.00\n",
      "1.14\n",
      "2.28\n",
      "4.15\n",
      "8.00\n",
      "8.43\n",
      "8.00\n",
      "5.68\n",
      "8.00\n",
      "8.21\n",
      "8.00\n",
      "1.75\n",
      "3.50\n",
      "2.16\n",
      "4.32\n",
      "4.93\n",
      "8.00\n",
      "5.75\n",
      "8.00\n",
      "1.26\n",
      "2.52\n",
      "3.97\n",
      "7.94\n",
      "4.39\n",
      "8.00\n",
      "7.53\n",
      "8.00\n",
      "1.98\n",
      "3.96\n",
      "1.66\n",
      "3.32\n",
      "2.04\n",
      "4.08\n",
      "11.72\n",
      "8.00\n",
      "4.64\n",
      "8.00\n",
      "4.71\n",
      "8.00\n",
      "3.77\n",
      "7.54\n",
      "9.33\n",
      "8.00\n",
      "1.83\n",
      "3.66\n",
      "2.15\n",
      "4.30\n",
      "1.58\n",
      "3.16\n",
      "9.29\n",
      "8.00\n",
      "1.27\n",
      "2.54\n",
      "8.49\n",
      "8.00\n",
      "5.39\n",
      "8.00\n",
      "3.47\n",
      "6.94\n",
      "6.48\n",
      "8.00\n",
      "4.11\n",
      "8.00\n",
      "1.85\n",
      "3.70\n",
      "8.79\n",
      "8.00\n",
      "0.13\n",
      "0.26\n",
      "1.44\n",
      "2.88\n",
      "5.96\n",
      "8.00\n",
      "3.42\n",
      "6.84\n",
      "1.89\n",
      "3.78\n",
      "1.98\n",
      "3.96\n",
      "5.26\n",
      "8.00\n",
      "0.39\n",
      "0.78\n",
      "6.05\n",
      "8.00\n",
      "1.99\n",
      "3.98\n",
      "1.58\n",
      "3.16\n",
      "3.99\n",
      "7.98\n",
      "4.35\n",
      "8.00\n",
      "6.71\n",
      "8.00\n",
      "2.58\n",
      "5.16\n",
      "7.37\n",
      "8.00\n",
      "5.77\n",
      "8.00\n",
      "3.97\n",
      "7.94\n",
      "3.65\n",
      "7.30\n",
      "4.38\n",
      "8.00\n",
      "8.06\n",
      "8.00\n",
      "8.05\n",
      "8.00\n",
      "1.10\n",
      "2.20\n",
      "6.65\n",
      "8.00\n",
      "\n"
     ]
    }
   ],
   "source": [
    "new_array = []\n",
    "for string in req:\n",
    "    for num in string.split(','):\n",
    "        print(num)"
   ]
  },
  {
   "cell_type": "code",
   "execution_count": null,
   "metadata": {},
   "outputs": [],
   "source": []
  }
 ],
 "metadata": {
  "kernelspec": {
   "display_name": "Python 3",
   "language": "python",
   "name": "python3"
  },
  "language_info": {
   "codemirror_mode": {
    "name": "ipython",
    "version": 3
   },
   "file_extension": ".py",
   "mimetype": "text/x-python",
   "name": "python",
   "nbconvert_exporter": "python",
   "pygments_lexer": "ipython3",
   "version": "3.6.9"
  }
 },
 "nbformat": 4,
 "nbformat_minor": 4
}
