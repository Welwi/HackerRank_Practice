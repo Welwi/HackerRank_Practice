{
  "nbformat": 4,
  "nbformat_minor": 0,
  "metadata": {
    "colab": {
      "name": "Counter.ipynb",
      "provenance": [],
      "authorship_tag": "ABX9TyPq5l6y48Hs1Cxr7wui6wTw",
      "include_colab_link": true
    },
    "kernelspec": {
      "name": "python3",
      "display_name": "Python 3"
    }
  },
  "cells": [
    {
      "cell_type": "markdown",
      "metadata": {
        "id": "view-in-github",
        "colab_type": "text"
      },
      "source": [
        "<a href=\"https://colab.research.google.com/github/Welwi/HackerRank_Practice/blob/master/Counter.ipynb\" target=\"_parent\"><img src=\"https://colab.research.google.com/assets/colab-badge.svg\" alt=\"Open In Colab\"/></a>"
      ]
    },
    {
      "cell_type": "markdown",
      "metadata": {
        "id": "TiiSivoBJH4w",
        "colab_type": "text"
      },
      "source": [
        "Raghu is a shoe shop owner. His shop has X number of shoes.\n",
        "He has a list containing the size of each shoe he has in his shop.\n",
        "There are N number of customers who are willing to pay xi amount of money only if they get the shoe of their desired size.\n",
        "\n",
        "Your task is to compute how much money Raghu earned.\n",
        "\n",
        "Input Format\n",
        "\n",
        "The first line contains X, the number of shoes.\n",
        "The second line contains the space separated list of all the shoe sizes in the shop.\n",
        "The third line contains N, the number of customers.\n",
        "The next N lines contain the space separated values of the shoe size desired by the customer and xi, the price of the shoe.\n",
        "\n",
        "\n",
        "\n",
        "\n",
        "\n",
        "\n",
        "Output Format\n",
        "\n",
        "Print the amount of money earned by ."
      ]
    },
    {
      "cell_type": "code",
      "metadata": {
        "id": "yq5UKIp4JG-w",
        "colab_type": "code",
        "colab": {}
      },
      "source": [
        "from collections import Counter\n",
        "\n",
        "shoe_count = int(input())\n",
        "shoe_list = list(map(int, input().split()))\n",
        "customer_count = int(input())\n",
        "\n",
        "available_shoes = Counter(shoe_list)\n",
        "l = []\n",
        "for i in range(customer_count):\n",
        "    shoe_size, price = input().split()\n",
        "    if available_shoes[int(shoe_size)]:\n",
        "        l.append(int(price))\n",
        "        available_shoes[int(shoe_size)] -= 1\n",
        "    else:\n",
        "        continue\n",
        "\n",
        "print(sum(l))\n"
      ],
      "execution_count": null,
      "outputs": []
    }
  ]
}