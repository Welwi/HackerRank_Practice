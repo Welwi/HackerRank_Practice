{
  "nbformat": 4,
  "nbformat_minor": 0,
  "metadata": {
    "colab": {
      "name": "Captain_room.ipynb",
      "provenance": [],
      "authorship_tag": "ABX9TyPadqUgXGUHFRNmK0JgwmU0",
      "include_colab_link": true
    },
    "kernelspec": {
      "name": "python3",
      "display_name": "Python 3"
    }
  },
  "cells": [
    {
      "cell_type": "markdown",
      "metadata": {
        "id": "view-in-github",
        "colab_type": "text"
      },
      "source": [
        "<a href=\"https://colab.research.google.com/github/Welwi/HackerRank_Practice/blob/master/Captain_room.ipynb\" target=\"_parent\"><img src=\"https://colab.research.google.com/assets/colab-badge.svg\" alt=\"Open In Colab\"/></a>"
      ]
    },
    {
      "cell_type": "markdown",
      "metadata": {
        "id": "1HwCWY1kE9PG",
        "colab_type": "text"
      },
      "source": [
        "Mr. Anant Asankhya is the manager at the INFINITE hotel. The hotel has an infinite amount of rooms.\n",
        "\n",
        "One fine day, a finite number of tourists come to stay at the hotel.\n",
        "The tourists consist of:\n",
        "→ A Captain.\n",
        "→ An unknown group of families consisting of K members per group where K ≠ 1.\n",
        "\n",
        "The Captain was given a separate room, and the rest were given one room per group.\n",
        "\n",
        "Mr. Anant has an unordered list of randomly arranged room entries. The list consists of the room numbers for all of the tourists. The room numbers will appear k times per group except for the Captain's room.\n",
        "\n",
        "Mr. Anant needs you to help him find the Captain's room number.\n",
        "The total number of tourists or the total number of groups of families is not known to you.\n",
        "You only know the value of k and the room number list."
      ]
    },
    {
      "cell_type": "code",
      "metadata": {
        "id": "l9ygVTYDFQfL",
        "colab_type": "code",
        "colab": {}
      },
      "source": [
        "5a + 5b + 5c + 5e + 5f + g = sum(list)\n",
        "\n",
        "a + b + c + d + e + f + g = sum(set)"
      ],
      "execution_count": null,
      "outputs": []
    },
    {
      "cell_type": "code",
      "metadata": {
        "id": "IZ6eh1hKErjP",
        "colab_type": "code",
        "colab": {}
      },
      "source": [
        "k = int(input())\n",
        "room_list = list(map(int, input().split()))\n",
        "room_set = set(room_list)\n",
        "\n",
        "sum_list = sum(room_list)\n",
        "sum_set = sum(room_set)\n",
        "\n",
        "print( (k*sum_set - sum_list)//(k-1))"
      ],
      "execution_count": null,
      "outputs": []
    }
  ]
}