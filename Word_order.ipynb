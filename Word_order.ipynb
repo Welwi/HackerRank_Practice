{
  "nbformat": 4,
  "nbformat_minor": 0,
  "metadata": {
    "colab": {
      "name": "Word_order.ipynb",
      "provenance": [],
      "authorship_tag": "ABX9TyMrKdfw3mhZ7tfEqbNXK9+b"
    },
    "kernelspec": {
      "name": "python3",
      "display_name": "Python 3"
    }
  },
  "cells": [
    {
      "cell_type": "markdown",
      "metadata": {
        "id": "u963AtFA1HdU",
        "colab_type": "text"
      },
      "source": [
        "You are given  words. Some words may repeat. For each word, output its number of occurrences. The output order should correspond with the input order of appearance of the word. See the sample input/output for clarification.\n",
        "\n"
      ]
    },
    {
      "cell_type": "code",
      "metadata": {
        "id": "wNWRiZ6X1GWG",
        "colab_type": "code",
        "colab": {}
      },
      "source": [
        "from collections import Counter\n",
        "\n",
        "n = int(input())\n",
        "arr = list(input() for word in range(n))\n",
        "\n",
        "arr_counter = Counter(arr)\n",
        "print(len(arr_counter))\n",
        "print(*arr_counter.values())"
      ],
      "execution_count": null,
      "outputs": []
    }
  ]
}