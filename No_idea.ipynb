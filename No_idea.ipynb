{
  "nbformat": 4,
  "nbformat_minor": 0,
  "metadata": {
    "colab": {
      "name": "No_idea.ipynb",
      "provenance": [],
      "authorship_tag": "ABX9TyMGZHOqx52Jo+GEBW54Mg//",
      "include_colab_link": true
    },
    "kernelspec": {
      "name": "python3",
      "display_name": "Python 3"
    }
  },
  "cells": [
    {
      "cell_type": "markdown",
      "metadata": {
        "id": "view-in-github",
        "colab_type": "text"
      },
      "source": [
        "<a href=\"https://colab.research.google.com/github/Welwi/HackerRank_Practice/blob/master/No_idea.ipynb\" target=\"_parent\"><img src=\"https://colab.research.google.com/assets/colab-badge.svg\" alt=\"Open In Colab\"/></a>"
      ]
    },
    {
      "cell_type": "markdown",
      "metadata": {
        "id": "kLHVhhnOwxbC",
        "colab_type": "text"
      },
      "source": [
        "There is an array of n integers. There are also 2 disjoint sets, A and B, each containing m integers. You like all the integers in set A and dislike all the integers in set B. Your initial happiness is 0. For each i integer in the array, if i belongs to A, you add 1 to your happiness. If i belongs to B, you add -1 to your happiness. Otherwise, your happiness does not change. Output your final happiness at the end.\n",
        "\n",
        "Note: Since A and B are sets, they have no repeated elements. However, the array might contain duplicate elements."
      ]
    },
    {
      "cell_type": "code",
      "metadata": {
        "id": "0dE5Is00wi42",
        "colab_type": "code",
        "colab": {}
      },
      "source": [
        "n, m = map(int, input().split())\n",
        "\n",
        "arr = list(map(int, input().split()))\n",
        "A = set(map(int, input().split()))\n",
        "B = set(map(int, input().split()))\n",
        "\n",
        "happiness = 0\n",
        "\n",
        "\n",
        "for elt in arr:\n",
        "    if elt in A:\n",
        "        happiness += 1\n",
        "    elif elt in B:\n",
        "        happiness -= 1\n",
        "    else:\n",
        "        happiness += 0\n",
        "print(happiness)"
      ],
      "execution_count": null,
      "outputs": []
    }
  ]
}