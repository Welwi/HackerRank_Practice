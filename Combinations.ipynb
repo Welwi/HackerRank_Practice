{
  "nbformat": 4,
  "nbformat_minor": 0,
  "metadata": {
    "colab": {
      "name": "Combinations.ipynb",
      "provenance": [],
      "authorship_tag": "ABX9TyOAHqZex/8bDYDdpi3cyZVg",
      "include_colab_link": true
    },
    "kernelspec": {
      "name": "python3",
      "display_name": "Python 3"
    }
  },
  "cells": [
    {
      "cell_type": "markdown",
      "metadata": {
        "id": "view-in-github",
        "colab_type": "text"
      },
      "source": [
        "<a href=\"https://colab.research.google.com/github/Welwi/HackerRank_Practice/blob/master/Combinations.ipynb\" target=\"_parent\"><img src=\"https://colab.research.google.com/assets/colab-badge.svg\" alt=\"Open In Colab\"/></a>"
      ]
    },
    {
      "cell_type": "markdown",
      "metadata": {
        "id": "c7iwnGrL8eDx",
        "colab_type": "text"
      },
      "source": [
        "You are given a string S.\n",
        "Your task is to print all possible combinations, up to size k, of the string in lexicographic sorted order."
      ]
    },
    {
      "cell_type": "code",
      "metadata": {
        "id": "FBkuBm8M8aqp",
        "colab_type": "code",
        "colab": {}
      },
      "source": [
        "from itertools import combinations\n",
        "\n",
        "s, r = input().split()\n",
        "s = sorted(s)\n",
        "\n",
        "for i in range(1, int(r) + 1):\n",
        "    for c in combinations(s, i):\n",
        "        print(''.join(c))"
      ],
      "execution_count": null,
      "outputs": []
    }
  ]
}