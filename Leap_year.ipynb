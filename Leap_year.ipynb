{
  "nbformat": 4,
  "nbformat_minor": 0,
  "metadata": {
    "colab": {
      "name": "Leap_year.ipynb",
      "provenance": [],
      "authorship_tag": "ABX9TyMJdUVnJUNms6/AcpsCE4nC",
      "include_colab_link": true
    },
    "kernelspec": {
      "name": "python3",
      "display_name": "Python 3"
    }
  },
  "cells": [
    {
      "cell_type": "markdown",
      "metadata": {
        "id": "view-in-github",
        "colab_type": "text"
      },
      "source": [
        "<a href=\"https://colab.research.google.com/github/Welwi/HackerRank_Practice/blob/master/Leap_year.ipynb\" target=\"_parent\"><img src=\"https://colab.research.google.com/assets/colab-badge.svg\" alt=\"Open In Colab\"/></a>"
      ]
    },
    {
      "cell_type": "markdown",
      "metadata": {
        "id": "9syk2C1MWaY9",
        "colab_type": "text"
      },
      "source": [
        "An extra day is added to the calendar almost every four years as February 29, and the day is called a leap day. It corrects the calendar for the fact that our planet takes approximately 365.25 days to orbit the sun. A leap year contains a leap day.\n",
        "\n",
        "In the Gregorian calendar, three conditions are used to identify leap years:\n",
        "\n",
        "The year can be evenly divided by 4, is a leap year, unless:\n",
        "The year can be evenly divided by 100, it is NOT a leap year, unless:\n",
        "The year is also evenly divisible by 400. Then it is a leap year.\n",
        "This means that in the Gregorian calendar, the years 2000 and 2400 are leap years, while 1800, 1900, 2100, 2200, 2300 and 2500 are NOT leap years. Source\n",
        "\n",
        "Task\n",
        "\n",
        "Given a year, determine whether it is a leap year. If it is a leap year, return the Boolean True, otherwise return False.\n",
        "\n",
        "Note that the code stub provided reads from STDIN and passes arguments to the is_leap function. It is only necessary to complete the is_leap function."
      ]
    },
    {
      "cell_type": "code",
      "metadata": {
        "id": "2eoYZ4fsWXDE",
        "colab_type": "code",
        "colab": {}
      },
      "source": [
        "def is_leap(year):\n",
        "    if (year % 400) == 0:\n",
        "        return True\n",
        "    if (year %100) == 0:\n",
        "        return False\n",
        "    if (year  % 4) == 0:\n",
        "        return True\n",
        "    return False\n",
        "\n",
        "year = int(input())\n",
        "print(is_leap(year))"
      ],
      "execution_count": null,
      "outputs": []
    },
    {
      "cell_type": "code",
      "metadata": {
        "id": "p7WhFN3Ap9Aq",
        "colab_type": "code",
        "colab": {}
      },
      "source": [
        ""
      ],
      "execution_count": null,
      "outputs": []
    }
  ]
}