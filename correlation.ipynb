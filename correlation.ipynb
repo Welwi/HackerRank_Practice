{
 "cells": [
  {
   "cell_type": "markdown",
   "metadata": {},
   "source": [
    "# Correlation and Regression Lines - A Quick Recap #1"
   ]
  },
  {
   "cell_type": "markdown",
   "metadata": {},
   "source": [
    "Here are the test scores of 10 students in physics and history:\n",
    "\n",
    "Physics Scores  15  12  8   8   7   7   7   6   5   3\n",
    "History Scores  10  25  17  11  13  17  20  13  9   15\n",
    "Compute Karl Pearson’s coefficient of correlation between these scores.\n",
    "Compute the answer correct to three decimal places.\n",
    "\n",
    "Output Format\n",
    "\n",
    "In the text box, using the language of your choice, print the floating point/decimal value required. Do not leave any leading or trailing spaces.\n",
    "\n",
    "For example, if your answer is 0.255. In python you can print using\n",
    "\n",
    "print(\"0.255\")\n",
    "This is NOT the actual answer - just the format in which you should provide your answer."
   ]
  },
  {
   "cell_type": "code",
   "execution_count": null,
   "metadata": {},
   "outputs": [],
   "source": [
    "def calc_mean(x):\n",
    "    \n",
    "    x_sum = 0\n",
    "    count = 0\n",
    "    for i, num in enumerate(x):\n",
    "        x_sum += num\n",
    "        count += 1\n",
    "\n",
    "    x_mean = x_sum/count\n",
    "    \n",
    "    return x_mean\n",
    "\n",
    "def calc_diff(x):\n",
    "    \n",
    "    x_mean = calc_mean(x)\n",
    "    x_diff = []\n",
    "    for num in x:\n",
    "        x_diff.append(num - x_mean)\n",
    "        \n",
    "    return x_diff\n",
    "\n",
    "def calc_numerator(x,y):\n",
    "    \n",
    "    x_diff = calc_diff(x)\n",
    "    y_diff = calc_diff(y)\n",
    "    \n",
    "    x_y_mult = []\n",
    "    num = 0\n",
    "    for a,b in zip(x_diff, y_diff):\n",
    "        num += a*b\n",
    "    \n",
    "    return num \n",
    "\n",
    "def root(x):\n",
    "    \n",
    "    x_diff = calc_diff(x)\n",
    "    x_sum = 0\n",
    "    for a,b in zip(x_diff, x_diff):\n",
    "        x_sum += a*b\n",
    "    \n",
    "    root = x_sum**(0.5)\n",
    "    return root\n",
    "\n",
    "def denominator(x,y):\n",
    "    \n",
    "    x_root = root(x)\n",
    "    y_root = root(y)\n",
    "    \n",
    "    return x_root * y_root\n",
    "\n",
    "def pearson(x,y):\n",
    "    \n",
    "    a = calc_numerator(x,y)\n",
    "    b = denominator(x,y)\n",
    "    return a/b\n",
    "\n",
    "if __name__ == '__main__':\n",
    "    x = list(map(int, input().split()[2:]))\n",
    "    y = list(map(int, input().split()[2:]))\n",
    "    \n",
    "    result = pearson(x,y)\n",
    "    print('{}'.format(round(result, 3)))"
   ]
  }
 ],
 "metadata": {
  "kernelspec": {
   "display_name": "Python 3",
   "language": "python",
   "name": "python3"
  },
  "language_info": {
   "codemirror_mode": {
    "name": "ipython",
    "version": 3
   },
   "file_extension": ".py",
   "mimetype": "text/x-python",
   "name": "python",
   "nbconvert_exporter": "python",
   "pygments_lexer": "ipython3",
   "version": "3.6.9"
  }
 },
 "nbformat": 4,
 "nbformat_minor": 4
}
