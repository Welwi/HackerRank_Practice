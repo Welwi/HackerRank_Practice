{
  "nbformat": 4,
  "nbformat_minor": 0,
  "metadata": {
    "colab": {
      "name": "Minion_game.ipynb",
      "provenance": [],
      "authorship_tag": "ABX9TyNUYZ2VvqsCiqyqA/E9gzDM",
      "include_colab_link": true
    },
    "kernelspec": {
      "name": "python3",
      "display_name": "Python 3"
    }
  },
  "cells": [
    {
      "cell_type": "markdown",
      "metadata": {
        "id": "view-in-github",
        "colab_type": "text"
      },
      "source": [
        "<a href=\"https://colab.research.google.com/github/Welwi/HackerRank_Practice/blob/master/Minion_game.ipynb\" target=\"_parent\"><img src=\"https://colab.research.google.com/assets/colab-badge.svg\" alt=\"Open In Colab\"/></a>"
      ]
    },
    {
      "cell_type": "markdown",
      "metadata": {
        "id": "aKOSMaKr6osk",
        "colab_type": "text"
      },
      "source": [
        "Kevin and Stuart want to play the 'The Minion Game'.\n",
        "\n",
        "Game Rules\n",
        "\n",
        "Both players are given the same string, S.\n",
        "Both players have to make substrings using the letters of the string S.\n",
        "Stuart has to make words starting with consonants.\n",
        "Kevin has to make words starting with vowels.\n",
        "The game ends when both players have made all possible substrings.\n",
        "\n",
        "Scoring\n",
        "A player gets +1 point for each occurrence of the substring in the string S. "
      ]
    },
    {
      "cell_type": "code",
      "metadata": {
        "id": "KGaI6CU36kiH",
        "colab_type": "code",
        "colab": {}
      },
      "source": [
        "def minion_game(string):\n",
        "    # your code goes here\n",
        "   \n",
        "    #start w vowels\n",
        "    Kevin = 0\n",
        "    Stuart = 0\n",
        "      \n",
        "\n",
        "    # for i in range(0, len(s)+1):\n",
        "    #     k = i+1\n",
        "    #     for j in range(k, len(s)+1):\n",
        "    #         substring = s[i:j]\n",
        "    #         if substring[0] in 'AEIOU':\n",
        "    #             Kevin += 1\n",
        "    #         else:\n",
        "    #             Stuart += 1\n",
        "\n",
        "    len_s = len(s)\n",
        "\n",
        "    for i in range(len(s)):\n",
        "        if s[i] in 'AEIOU':\n",
        "            Kevin += len_s - i\n",
        "        else:\n",
        "            Stuart += len_s - i\n",
        "\n",
        "\n",
        "    if Kevin > Stuart:\n",
        "        print('Kevin', Kevin)\n",
        "    elif Kevin < Stuart:\n",
        "        print('Stuart', Stuart)\n",
        "    else:\n",
        "        print('Draw')\n",
        "\n",
        "\n",
        "\n",
        "\n",
        "if __name__ == '__main__':\n",
        "    s = input()\n",
        "    minion_game(s)"
      ],
      "execution_count": null,
      "outputs": []
    }
  ]
}