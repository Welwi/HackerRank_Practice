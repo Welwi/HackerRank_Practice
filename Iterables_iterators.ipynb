{
  "nbformat": 4,
  "nbformat_minor": 0,
  "metadata": {
    "colab": {
      "name": "Iterables_iterators.ipynb",
      "provenance": [],
      "authorship_tag": "ABX9TyNYNnsnwFlpt4F/I97ZKpPn",
      "include_colab_link": true
    },
    "kernelspec": {
      "name": "python3",
      "display_name": "Python 3"
    }
  },
  "cells": [
    {
      "cell_type": "markdown",
      "metadata": {
        "id": "view-in-github",
        "colab_type": "text"
      },
      "source": [
        "<a href=\"https://colab.research.google.com/github/Welwi/HackerRank_Practice/blob/master/Iterables_iterators.ipynb\" target=\"_parent\"><img src=\"https://colab.research.google.com/assets/colab-badge.svg\" alt=\"Open In Colab\"/></a>"
      ]
    },
    {
      "cell_type": "markdown",
      "metadata": {
        "id": "m-pqV3kF_FZ6",
        "colab_type": "text"
      },
      "source": [
        "The itertools module standardizes a core set of fast, memory efficient tools that are useful by themselves or in combination. Together, they form an iterator algebra making it possible to construct specialized tools succinctly and efficiently in pure Python.\n",
        "\n",
        "To read more about the functions in this module, check out their documentation here.\n",
        "\n",
        "You are given a list of N lowercase English letters. For a given integer K, you can select any K indices (assume 1-based indexing) with a uniform probability from the list.\n",
        "\n",
        "Find the probability that at least one of the K indices selected will contain the letter: 'a'."
      ]
    },
    {
      "cell_type": "code",
      "metadata": {
        "id": "-4n-TXeI_cwI",
        "colab_type": "code",
        "colab": {}
      },
      "source": [
        "len_l = int(input())\n",
        "l = input().split()\n",
        "k = int(input())\n",
        "\n",
        "a_combs = 0\n",
        "all_combs = 0\n",
        "for c in combinations(l, k):\n",
        "    all_combs += 1\n",
        "    if 'a' in c:\n",
        "        a_combs += 1 \n",
        "\n",
        "print(a_combs/all_combs)"
      ],
      "execution_count": null,
      "outputs": []
    }
  ]
}