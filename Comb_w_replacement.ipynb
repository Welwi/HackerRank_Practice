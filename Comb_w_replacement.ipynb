{
  "nbformat": 4,
  "nbformat_minor": 0,
  "metadata": {
    "colab": {
      "name": "Comb_w_replacement.ipynb",
      "provenance": [],
      "authorship_tag": "ABX9TyNhIK6fCKkUlPEXyKd8PlEi",
      "include_colab_link": true
    },
    "kernelspec": {
      "name": "python3",
      "display_name": "Python 3"
    }
  },
  "cells": [
    {
      "cell_type": "markdown",
      "metadata": {
        "id": "view-in-github",
        "colab_type": "text"
      },
      "source": [
        "<a href=\"https://colab.research.google.com/github/Welwi/HackerRank_Practice/blob/master/Comb_w_replacement.ipynb\" target=\"_parent\"><img src=\"https://colab.research.google.com/assets/colab-badge.svg\" alt=\"Open In Colab\"/></a>"
      ]
    },
    {
      "cell_type": "markdown",
      "metadata": {
        "id": "-32o4CBLCTmF",
        "colab_type": "text"
      },
      "source": [
        "You are given a string S.\n",
        "Your task is to print all possible size k replacement combinations of the string in lexicographic sorted order."
      ]
    },
    {
      "cell_type": "code",
      "metadata": {
        "id": "gzjEAW-3CPWX",
        "colab_type": "code",
        "colab": {}
      },
      "source": [
        "from itertools import combinations_with_replacement\n",
        "\n",
        "s, r = input().split()\n",
        "\n",
        "s = sorted(s)\n",
        "r = int(r)\n",
        "\n",
        "for c in combinations_with_replacement(s,r):\n",
        "    print(''.join(c))"
      ],
      "execution_count": null,
      "outputs": []
    }
  ]
}