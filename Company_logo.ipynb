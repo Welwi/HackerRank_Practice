{
  "nbformat": 4,
  "nbformat_minor": 0,
  "metadata": {
    "colab": {
      "name": "Company_logo.ipynb",
      "provenance": [],
      "authorship_tag": "ABX9TyPmyTayp0mZLZxX7IeCNg01",
      "include_colab_link": true
    },
    "kernelspec": {
      "name": "python3",
      "display_name": "Python 3"
    }
  },
  "cells": [
    {
      "cell_type": "markdown",
      "metadata": {
        "id": "view-in-github",
        "colab_type": "text"
      },
      "source": [
        "<a href=\"https://colab.research.google.com/github/Welwi/HackerRank_Practice/blob/master/Company_logo.ipynb\" target=\"_parent\"><img src=\"https://colab.research.google.com/assets/colab-badge.svg\" alt=\"Open In Colab\"/></a>"
      ]
    },
    {
      "cell_type": "markdown",
      "metadata": {
        "id": "m-pqV3kF_FZ6",
        "colab_type": "text"
      },
      "source": [
        "A newly opened multinational brand has decided to base their company logo on the three most common characters in the company name. They are now trying out various combinations of company names and logos based on this condition. Given a string s, which is the company name in lowercase letters, your task is to find the top three most common characters in the string.\n",
        "\n",
        "Print the three most common characters along with their occurrence count.\n",
        "Sort in descending order of occurrence count.\n",
        "If the occurrence count is the same, sort the characters in alphabetical order."
      ]
    },
    {
      "cell_type": "code",
      "metadata": {
        "id": "eBfwWcDF_Chr",
        "colab_type": "code",
        "colab": {}
      },
      "source": [
        "import math\n",
        "import os\n",
        "import random\n",
        "import re\n",
        "import sys\n",
        "\n",
        "from collections import Counter\n",
        "\n",
        "if __name__ == '__main__':\n",
        "    s = input()\n",
        "\n",
        "    count = Counter(s)\n",
        "\n",
        "    for key, value in sorted(count.items(), key=lambda item: [-item[1], item[0]])[:3]:\n",
        "        print(key, value)\n"
      ],
      "execution_count": null,
      "outputs": []
    },
    {
      "cell_type": "code",
      "metadata": {
        "id": "-4n-TXeI_cwI",
        "colab_type": "code",
        "colab": {}
      },
      "source": [
        ""
      ],
      "execution_count": null,
      "outputs": []
    }
  ]
}