{
  "nbformat": 4,
  "nbformat_minor": 0,
  "metadata": {
    "colab": {
      "name": "Nested_lists.ipynb",
      "provenance": [],
      "authorship_tag": "ABX9TyPalpQNmgELRGoq5za63BZ5",
      "include_colab_link": true
    },
    "kernelspec": {
      "name": "python3",
      "display_name": "Python 3"
    }
  },
  "cells": [
    {
      "cell_type": "markdown",
      "metadata": {
        "id": "view-in-github",
        "colab_type": "text"
      },
      "source": [
        "<a href=\"https://colab.research.google.com/github/Welwi/HackerRank_Practice/blob/master/Nested_lists.ipynb\" target=\"_parent\"><img src=\"https://colab.research.google.com/assets/colab-badge.svg\" alt=\"Open In Colab\"/></a>"
      ]
    },
    {
      "cell_type": "markdown",
      "metadata": {
        "id": "mHoKR5I-ILB_",
        "colab_type": "text"
      },
      "source": [
        "Given the names and grades for each student in a class of N students, store them in a nested list and print the name(s) of any student(s) having the second lowest grade.\n",
        "\n",
        "Note: If there are multiple students with the second lowest grade, order their names alphabetically and print each name on a new line."
      ]
    },
    {
      "cell_type": "code",
      "metadata": {
        "id": "f3tx54XJIIfo",
        "colab_type": "code",
        "colab": {}
      },
      "source": [
        "def second_lowest_grade(arr, arr_score):\n",
        "\n",
        "    min_score = min(arr_score)\n",
        "    drop_lowest = sorted([score for score in arr_score if score != min_score])\n",
        "    second_lowest = drop_lowest[0]\n",
        "    result = [record[0] for record in arr if record[-1] == second_lowest]\n",
        "    \n",
        "    print(*sorted(result), sep='\\n')\n",
        "\n",
        "\n",
        "if __name__ == '__main__':\n",
        "\n",
        "    arr = []\n",
        "    arr_score = []\n",
        "    for _ in range(int(input())):\n",
        "        name = input()\n",
        "        score = float(input())\n",
        "\n",
        "        arr.append([name,score])\n",
        "        arr_score.append(score)\n",
        "        \n",
        "    second_lowest_grade(arr, arr_score)\n"
      ],
      "execution_count": null,
      "outputs": []
    }
  ]
}