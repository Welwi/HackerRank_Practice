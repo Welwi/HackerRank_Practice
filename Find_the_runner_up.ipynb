{
  "nbformat": 4,
  "nbformat_minor": 0,
  "metadata": {
    "colab": {
      "name": "Find_the_runner_up.ipynb",
      "provenance": [],
      "authorship_tag": "ABX9TyPKQn2Z1K3Hvb6XoHnUqGBI",
      "include_colab_link": true
    },
    "kernelspec": {
      "name": "python3",
      "display_name": "Python 3"
    }
  },
  "cells": [
    {
      "cell_type": "markdown",
      "metadata": {
        "id": "view-in-github",
        "colab_type": "text"
      },
      "source": [
        "<a href=\"https://colab.research.google.com/github/Welwi/HackerRank_Practice/blob/master/Find_the_runner_up.ipynb\" target=\"_parent\"><img src=\"https://colab.research.google.com/assets/colab-badge.svg\" alt=\"Open In Colab\"/></a>"
      ]
    },
    {
      "cell_type": "markdown",
      "metadata": {
        "id": "xBCkm0_9-CTa",
        "colab_type": "text"
      },
      "source": [
        "Given the participants' score sheet for your University Sports Day, you are required to find the runner-up score. You are given  scores. Store them in a list and find the score of the runner-up."
      ]
    },
    {
      "cell_type": "code",
      "metadata": {
        "id": "c7o9VU8799kR",
        "colab_type": "code",
        "colab": {}
      },
      "source": [
        "def runner_up(arr):\n",
        "    max_value = max(arr)\n",
        "    new_arr = sorted([value for value in arr if value != max_value])\n",
        "    print(new_arr[-1])\n",
        "\n",
        "\n",
        "if __name__ == '__main__':\n",
        "    n = int(input())\n",
        "    arr = list(map(int, input().split()))\n",
        "\n",
        "    runner_up(arr)\n"
      ],
      "execution_count": null,
      "outputs": []
    }
  ]
}