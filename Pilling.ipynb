{
  "nbformat": 4,
  "nbformat_minor": 0,
  "metadata": {
    "colab": {
      "name": "Pilling.ipynb",
      "provenance": [],
      "authorship_tag": "ABX9TyPBjHk6ZMhQB+FIzs27o+hK",
      "include_colab_link": true
    },
    "kernelspec": {
      "name": "python3",
      "display_name": "Python 3"
    }
  },
  "cells": [
    {
      "cell_type": "markdown",
      "metadata": {
        "id": "view-in-github",
        "colab_type": "text"
      },
      "source": [
        "<a href=\"https://colab.research.google.com/github/Welwi/HackerRank_Practice/blob/master/Pilling.ipynb\" target=\"_parent\"><img src=\"https://colab.research.google.com/assets/colab-badge.svg\" alt=\"Open In Colab\"/></a>"
      ]
    },
    {
      "cell_type": "markdown",
      "metadata": {
        "id": "mGUyymbFsjH3",
        "colab_type": "text"
      },
      "source": [
        "There is a horizontal row of n cubes. The length of each cube is given. You need to create a new vertical pile of cubes. The new pile should follow these directions: if cube_i is on top of cube_j then sideLength_j >= sideLength_i.\n",
        "\n",
        "When stacking the cubes, you can only pick up either the leftmost or the rightmost cube each time. Print \"Yes\" if it is possible to stack the cubes. Otherwise, print \"No\". Do not print the quotation marks.\n",
        "\n",
        "Input Format\n",
        "\n",
        "The first line contains a single integer T, the number of test cases.\n",
        "For each test case, there are 2 lines.\n",
        "The first line of each test case contains n, the number of cubes.\n",
        "The second line contains n space separated integers, denoting the sideLengths of each cube in that order.\n",
        "\n",
        "Constraints\n",
        "\n",
        "1 <= T <= 5\n",
        "\n",
        "1 <= n <= 10**5\n",
        "\n",
        "1 <= sideLength < 2**31\n",
        "\n",
        "\n",
        "Output Format\n",
        "\n",
        "For each test case, output a single line containing either \"Yes\" or \"No\" without the quotes."
      ]
    },
    {
      "cell_type": "code",
      "metadata": {
        "id": "W4xTN9wjtJWS",
        "colab_type": "code",
        "colab": {}
      },
      "source": [
        ""
      ],
      "execution_count": null,
      "outputs": []
    },
    {
      "cell_type": "code",
      "metadata": {
        "id": "-iV5nUaHsUkr",
        "colab_type": "code",
        "colab": {}
      },
      "source": [
        ""
      ],
      "execution_count": null,
      "outputs": []
    }
  ]
}